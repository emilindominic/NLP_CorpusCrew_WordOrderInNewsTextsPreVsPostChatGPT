{
 "cells": [
  {
   "cell_type": "markdown",
   "id": "4a696a36",
   "metadata": {},
   "source": [
    "## Import libraries"
   ]
  },
  {
   "cell_type": "code",
   "execution_count": 5,
   "id": "c079f9f5",
   "metadata": {},
   "outputs": [],
   "source": [
    "import os\n",
    "import pandas as pd\n",
    "import zipfile"
   ]
  },
  {
   "cell_type": "markdown",
   "id": "ab768a38",
   "metadata": {},
   "source": [
    "## Load raw data"
   ]
  },
  {
   "cell_type": "code",
   "execution_count": null,
   "id": "e0325005",
   "metadata": {},
   "outputs": [
    {
     "name": "stdout",
     "output_type": "stream",
     "text": [
      "german: 0 text files loaded\n",
      "russian: 0 text files loaded\n",
      "english: 0 text files loaded\n"
     ]
    }
   ],
   "source": [
    "import os\n",
    "import zipfile\n",
    "\n",
    "base_dir = \"data/raw\"\n",
    "data = {}\n",
    "\n",
    "# Walk through all subfolders recursively\n",
    "for root, dirs, files in os.walk(base_dir):\n",
    "    # Detect language name (english, german, russian)\n",
    "    parts = root.split(os.sep)\n",
    "    if len(parts) >= 3 and parts[2] in [\"english\", \"german\", \"russian\"]:\n",
    "        lang = parts[2]\n",
    "    else:\n",
    "        continue\n",
    "\n",
    "    texts = data.get(lang, [])\n",
    "\n",
    "    for file in files:\n",
    "        if file.lower().endswith(\".zip\"):\n",
    "            zip_path = os.path.join(root, file)\n",
    "            try:\n",
    "                with zipfile.ZipFile(zip_path, \"r\") as z:\n",
    "                    for name in z.namelist():\n",
    "                        if name.lower().endswith(\".txt\"):\n",
    "                            with z.open(name) as f:\n",
    "                                text = f.read().decode(\"utf-8\", errors=\"ignore\")\n",
    "                                texts.append(text)\n",
    "            except Exception as e:\n",
    "                print(f\"⚠️ Error reading {zip_path}: {e}\")\n",
    "\n",
    "    data[lang] = texts\n",
    "\n",
    "# ✅ Show summary\n",
    "for lang, texts in data.items():\n",
    "    print(f\"{lang}: {len(texts)} text files loaded\")\n"
   ]
  }
 ],
 "metadata": {
  "kernelspec": {
   "display_name": "Python 3",
   "language": "python",
   "name": "python3"
  },
  "language_info": {
   "codemirror_mode": {
    "name": "ipython",
    "version": 3
   },
   "file_extension": ".py",
   "mimetype": "text/x-python",
   "name": "python",
   "nbconvert_exporter": "python",
   "pygments_lexer": "ipython3",
   "version": "3.9.6"
  }
 },
 "nbformat": 4,
 "nbformat_minor": 5
}
