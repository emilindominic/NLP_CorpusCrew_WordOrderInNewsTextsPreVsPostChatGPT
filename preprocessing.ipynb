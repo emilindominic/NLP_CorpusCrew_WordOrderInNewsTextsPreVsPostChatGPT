{
 "cells": [
  {
   "cell_type": "markdown",
   "id": "4a696a36",
   "metadata": {},
   "source": [
    "## Import libraries"
   ]
  },
  {
   "cell_type": "code",
   "execution_count": 5,
   "id": "c079f9f5",
   "metadata": {},
   "outputs": [],
   "source": [
    "import os\n",
    "import pandas as pd\n",
    "import zipfile"
   ]
  },
  {
   "cell_type": "markdown",
   "id": "ab768a38",
   "metadata": {},
   "source": [
    "## Load raw data"
   ]
  },
  {
   "cell_type": "code",
   "execution_count": null,
   "id": "e0325005",
   "metadata": {},
   "outputs": [
    {
     "name": "stdout",
     "output_type": "stream",
     "text": [
      "english: 10 text files loaded\n"
     ]
    }
   ],
   "source": [
    "import os\n",
    "\n",
    "base_dir = \"data/raw\"\n",
    "data = {}\n",
    "\n",
    "# Walk through all subfolders\n",
    "for root, dirs, files in os.walk(base_dir):\n",
    "    # Only process folders that contain .txt files\n",
    "    txt_files = [f for f in files if f.lower().endswith(\".txt\")]\n",
    "    if not txt_files:\n",
    "        continue\n",
    "\n",
    "    # Detect language name from path\n",
    "    parts = root.split(os.sep)\n",
    "    if \"english\" in parts:\n",
    "        lang = \"english\"\n",
    "    elif \"german\" in parts:\n",
    "        lang = \"german\"\n",
    "    elif \"russian\" in parts:\n",
    "        lang = \"russian\"\n",
    "    else:\n",
    "        continue\n",
    "\n",
    "    texts = []\n",
    "    for file in txt_files:\n",
    "        file_path = os.path.join(root, file)\n",
    "        try:\n",
    "            with open(file_path, \"r\", encoding=\"utf-8\", errors=\"ignore\") as f:\n",
    "                text = f.read()\n",
    "                texts.append(text)\n",
    "        except Exception as e:\n",
    "            print(f\"⚠️ Error reading {file_path}: {e}\")\n",
    "\n",
    "    data[lang] = texts\n",
    "\n",
    "# ✅ Summary\n",
    "for lang, texts in data.items():\n",
    "    print(f\"{lang}: {len(texts)} text files loaded\")\n"
   ]
  }
 ],
 "metadata": {
  "kernelspec": {
   "display_name": "Python 3",
   "language": "python",
   "name": "python3"
  },
  "language_info": {
   "codemirror_mode": {
    "name": "ipython",
    "version": 3
   },
   "file_extension": ".py",
   "mimetype": "text/x-python",
   "name": "python",
   "nbconvert_exporter": "python",
   "pygments_lexer": "ipython3",
   "version": "3.9.6"
  }
 },
 "nbformat": 4,
 "nbformat_minor": 5
}
