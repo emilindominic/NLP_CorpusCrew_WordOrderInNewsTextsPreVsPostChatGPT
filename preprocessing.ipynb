{
 "cells": [
  {
   "cell_type": "markdown",
   "id": "4a696a36",
   "metadata": {},
   "source": [
    "## Import libraries"
   ]
  },
  {
   "cell_type": "code",
   "execution_count": 23,
   "id": "c079f9f5",
   "metadata": {},
   "outputs": [],
   "source": [
    "import os\n",
    "import pandas as pd\n",
    "import zipfile"
   ]
  },
  {
   "cell_type": "markdown",
   "id": "ab768a38",
   "metadata": {},
   "source": [
    "## Load raw data"
   ]
  },
  {
   "cell_type": "code",
   "execution_count": 27,
   "id": "e0325005",
   "metadata": {},
   "outputs": [],
   "source": [
    "base_dir = \"data/raw\"\n",
    "languages = [\"english\", \"german\", \"russian\"]\n",
    "data = {}\n",
    "\n",
    "for root, _, files in os.walk(base_dir):\n",
    "    lang = next((l for l in languages if l in root.split(os.sep)), None)\n",
    "    if not lang:\n",
    "        continue\n",
    "    texts = [open(os.path.join(root, f), \"r\", encoding=\"utf-8\").read() for f in files if f.endswith(\".txt\")]\n",
    "    if texts:\n",
    "        data[lang] = texts"
   ]
  }
 ],
 "metadata": {
  "kernelspec": {
   "display_name": "Python 3",
   "language": "python",
   "name": "python3"
  },
  "language_info": {
   "codemirror_mode": {
    "name": "ipython",
    "version": 3
   },
   "file_extension": ".py",
   "mimetype": "text/x-python",
   "name": "python",
   "nbconvert_exporter": "python",
   "pygments_lexer": "ipython3",
   "version": "3.9.6"
  }
 },
 "nbformat": 4,
 "nbformat_minor": 5
}
